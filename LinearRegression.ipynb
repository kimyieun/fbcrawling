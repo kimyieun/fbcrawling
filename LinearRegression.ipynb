{
 "cells": [
  {
   "cell_type": "code",
   "execution_count": 14,
   "metadata": {},
   "outputs": [],
   "source": [
    "import matplotlib.pyplot as plt\n",
    "import numpy as np\n",
    "from sklearn import linear_model\n",
    "from sklearn.model_selection import KFold\n",
    "from sklearn.metrics import mean_squared_error, r2_score\n",
    "import json, csv\n",
    "from scipy.stats import spearmanr\n",
    "%matplotlib inline"
   ]
  },
  {
   "cell_type": "code",
   "execution_count": 29,
   "metadata": {},
   "outputs": [
    {
     "name": "stdout",
     "output_type": "stream",
     "text": [
      "(1988, 16)\n"
     ]
    }
   ],
   "source": [
    "try:\n",
    "    with open(\"./Features/Features_data/featuretest.json\", encoding='UTF8') as f:\n",
    "        features = json.load(f)\n",
    "except EnvironmentError:\n",
    "    print('No Feature File')\n",
    "\n",
    "try:\n",
    "    with open(\"./Features/Features_data/scoretest.json\", encoding='UTF8') as f:\n",
    "        scores = json.load(f)\n",
    "except EnvironmentError:\n",
    "    print(\"No Score File\")\n",
    "\n",
    "feature_num = 16\n",
    "x = np.array(features)\n",
    "print(x.shape)\n",
    "\n",
    "y = np.array(scores)\n",
    "y = np.reshape(y,(-1,1))\n",
    "\n",
    "kf = KFold(n_splits = 5, shuffle = True)"
   ]
  },
  {
   "cell_type": "code",
   "execution_count": 30,
   "metadata": {},
   "outputs": [
    {
     "name": "stdout",
     "output_type": "stream",
     "text": [
      "Average rho : 0.6354628745717006 Average pvalue : 1.2377334502086975e-36\n"
     ]
    }
   ],
   "source": [
    "sum_rho = 0\n",
    "sum_pvalue = 0\n",
    "for train_index, test_index in kf.split(x):\n",
    "    \n",
    "    X_train, X_test = x[train_index], x[test_index]\n",
    "    y_train, y_test = y[train_index], y[test_index]\n",
    "    \n",
    "    regr = linear_model.LinearRegression()\n",
    "\n",
    "    regr.fit(X_train, y_train)\n",
    "    y_test_pred = regr.predict(X_test)\n",
    "    y_test_pred = np.clip(y_test_pred, 1, 5)\n",
    "    \n",
    "    '''\n",
    "    # The coefficients\n",
    "    #print('Coefficients: \\n', regr.coef_)\n",
    "    # The mean squared error\n",
    "    print(\"Mean squared error: %.2f\"\n",
    "          % mean_squared_error(y_test, y_test_pred))\n",
    "    # Explained variance score: 1 is perfect prediction\n",
    "    print('Variance score: %.2f' % r2_score(y_test, y_test_pred))\n",
    "    print(spearmanr(y_test, y_test_pred))\n",
    "    '''\n",
    "    sum_rho += spearmanr(y_test, y_test_pred).correlation\n",
    "    sum_pvalue += spearmanr(y_test, y_test_pred).pvalue\n",
    "print(\"Average rho : \" + str(sum_rho / kf.n_splits) + \" Average pvalue : \" + str(sum_pvalue / kf.n_splits))"
   ]
  }
 ],
 "metadata": {
  "kernelspec": {
   "display_name": "Python 3",
   "language": "python",
   "name": "python3"
  },
  "language_info": {
   "codemirror_mode": {
    "name": "ipython",
    "version": 3
   },
   "file_extension": ".py",
   "mimetype": "text/x-python",
   "name": "python",
   "nbconvert_exporter": "python",
   "pygments_lexer": "ipython3",
   "version": "3.6.5"
  }
 },
 "nbformat": 4,
 "nbformat_minor": 2
}
