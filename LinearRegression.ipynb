{
 "cells": [
  {
   "cell_type": "code",
   "execution_count": 14,
   "metadata": {},
   "outputs": [],
   "source": [
    "import matplotlib.pyplot as plt\n",
    "import numpy as np\n",
    "from sklearn import linear_model\n",
    "from sklearn.model_selection import KFold\n",
    "from sklearn.metrics import mean_squared_error, r2_score\n",
    "import json, csv\n",
    "from scipy.stats import spearmanr\n",
    "%matplotlib inline"
   ]
  },
  {
   "cell_type": "code",
   "execution_count": 15,
   "metadata": {},
   "outputs": [
    {
     "name": "stdout",
     "output_type": "stream",
     "text": [
      "(1988, 16)\n"
     ]
    }
   ],
   "source": [
    "try:\n",
    "    with open(\"./Features/Features_data/featuretest.json\", encoding='UTF8') as f:\n",
    "        features = json.load(f)\n",
    "except EnvironmentError:\n",
    "    print('No Feature File')\n",
    "\n",
    "try:\n",
    "    with open(\"./Features/Features_data/scoretest.json\", encoding='UTF8') as f:\n",
    "        scores = json.load(f)\n",
    "except EnvironmentError:\n",
    "    print(\"No Score File\")\n",
    "\n",
    "feature_num = 16\n",
    "x = np.array(features)\n",
    "print(x.shape)\n",
    "\n",
    "y = np.array(scores)\n",
    "y = np.reshape(y,(-1,1))\n",
    "\n",
    "kf = KFold(n_splits = 5, shuffle = True)"
   ]
  },
  {
   "cell_type": "code",
   "execution_count": 16,
   "metadata": {},
   "outputs": [
    {
     "name": "stdout",
     "output_type": "stream",
     "text": [
      "Coefficients: \n",
      " [[-3.80152876e-02  2.96330648e-01 -1.74959921e-01 -1.21370727e-01\n",
      "  -3.55918726e-01 -5.61766516e-01 -1.11022302e-16  2.82382697e-02\n",
      "  -5.97598764e-01  0.00000000e+00 -9.18422483e-02 -4.22784777e-02\n",
      "   1.64473752e-03  2.19590338e-01  2.89196236e-01  7.49341043e-01]]\n",
      "Mean squared error: 0.99\n",
      "Variance score: 0.45\n",
      "SpearmanrResult(correlation=0.6732324994973811, pvalue=7.190943290884453e-54)\n",
      "Coefficients: \n",
      " [[-8.26728347e-02  2.02361304e-01  3.21273559e-02 -2.34488660e-01\n",
      "  -3.38239246e-01 -5.90281860e-01  8.32667268e-17  3.57999163e-02\n",
      "  -5.72104682e-01  2.22044605e-16 -2.13903404e-01 -2.58842830e-01\n",
      "   1.82097014e-03  1.56951944e-01  2.61654442e-01  7.63136268e-01]]\n",
      "Mean squared error: 1.18\n",
      "Variance score: 0.35\n",
      "SpearmanrResult(correlation=0.595727835497744, pvalue=1.3585501998395413e-39)\n",
      "Coefficients: \n",
      " [[-5.08542193e-02  1.32531474e-01  1.19574765e-01 -2.52106240e-01\n",
      "  -2.89965193e-01 -6.10570277e-01 -2.08166817e-16  4.64935435e-02\n",
      "  -5.64011155e-01  1.11022302e-16 -2.74280949e-01 -4.77031190e-01\n",
      "   1.51540035e-03  2.16334742e-01  2.58120466e-01  7.31991480e-01]]\n",
      "Mean squared error: 1.08\n",
      "Variance score: 0.41\n",
      "SpearmanrResult(correlation=0.6362192679193127, pvalue=1.529318643745517e-46)\n",
      "Coefficients: \n",
      " [[-6.50827504e-02  1.80305558e-01  1.01832813e-01 -2.82138371e-01\n",
      "  -3.17346176e-01 -6.69250660e-01 -2.77555756e-16  5.89805995e-02\n",
      "  -5.66129282e-01 -1.11022302e-16  6.74232695e-02 -3.74191874e-01\n",
      "   1.58384500e-03  1.35477303e-01  2.56775727e-01  7.79846488e-01]]\n",
      "Mean squared error: 1.15\n",
      "Variance score: 0.35\n",
      "SpearmanrResult(correlation=0.6027505213401294, pvalue=1.2513013641158814e-40)\n",
      "Coefficients: \n",
      " [[-8.39865987e-02  2.05539085e-01 -2.48404964e-02 -1.80698589e-01\n",
      "  -2.82869333e-01 -6.25356396e-01 -2.77555756e-17  4.35027148e-02\n",
      "  -5.94551146e-01  0.00000000e+00 -9.68236417e-02 -3.10977875e-01\n",
      "   1.63787602e-03  1.69462639e-01  4.32331335e-01  7.22966991e-01]]\n",
      "Mean squared error: 0.98\n",
      "Variance score: 0.44\n",
      "SpearmanrResult(correlation=0.667356729971354, pvalue=1.6561214285039851e-52)\n"
     ]
    }
   ],
   "source": [
    "for train_index, test_index in kf.split(x):\n",
    "    \n",
    "    X_train, X_test = x[train_index], x[test_index]\n",
    "    y_train, y_test = y[train_index], y[test_index]\n",
    "    \n",
    "    regr = linear_model.LinearRegression()\n",
    "\n",
    "    regr.fit(X_train, y_train)\n",
    "    y_test_pred = regr.predict(X_test)\n",
    "    y_test_pred = np.clip(y_test_pred, 1, 5)\n",
    "\n",
    "    # The coefficients\n",
    "    print('Coefficients: \\n', regr.coef_)\n",
    "    # The mean squared error\n",
    "    print(\"Mean squared error: %.2f\"\n",
    "          % mean_squared_error(y_test, y_test_pred))\n",
    "    # Explained variance score: 1 is perfect prediction\n",
    "    print('Variance score: %.2f' % r2_score(y_test, y_test_pred))\n",
    "    print(spearmanr(y_test, y_test_pred))"
   ]
  }
 ],
 "metadata": {
  "kernelspec": {
   "display_name": "Python 3",
   "language": "python",
   "name": "python3"
  },
  "language_info": {
   "codemirror_mode": {
    "name": "ipython",
    "version": 3
   },
   "file_extension": ".py",
   "mimetype": "text/x-python",
   "name": "python",
   "nbconvert_exporter": "python",
   "pygments_lexer": "ipython3",
   "version": "3.6.5"
  }
 },
 "nbformat": 4,
 "nbformat_minor": 2
}
